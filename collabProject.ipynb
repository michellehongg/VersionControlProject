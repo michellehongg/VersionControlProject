{
 "cells": [
  {
   "cell_type": "code",
   "execution_count": null,
   "metadata": {},
   "outputs": [],
   "source": [
    "name = input(prompt=\"Please enter your name:\")\n",
    "print (\"Your name is: \" + name)\n",
    "\n",
    "#Ask users for numbers\n",
    "num = input(\"Please enter a number one to ten: \")\n",
    "count = 0\n",
    "sum = 0\n",
    "while int(count) < int(num):\n",
    "    add = input(\"Enter a number to add: \")\n",
    "    sum += int(add)\n",
    "    count += 1\n",
    "print(name + \", your sum is \" + str(sum))"
   ]
  },
  {
   "cell_type": "code",
   "execution_count": null,
   "metadata": {},
   "outputs": [],
   "source": []
  },
  {
   "cell_type": "code",
   "execution_count": null,
   "metadata": {},
   "outputs": [],
   "source": []
  },
  {
   "cell_type": "code",
   "execution_count": null,
   "metadata": {},
   "outputs": [],
   "source": []
  }
 ],
 "metadata": {
  "kernelspec": {
   "display_name": "Python 3",
   "language": "python",
   "name": "python3"
  },
  "language_info": {
   "codemirror_mode": {
    "name": "ipython",
    "version": 3
   },
   "file_extension": ".py",
   "mimetype": "text/x-python",
   "name": "python",
   "nbconvert_exporter": "python",
   "pygments_lexer": "ipython3",
   "version": "3.8.3"
  }
 },
 "nbformat": 4,
 "nbformat_minor": 4
}
